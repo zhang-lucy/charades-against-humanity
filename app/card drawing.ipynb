{
 "cells": [
  {
   "cell_type": "code",
   "execution_count": 1,
   "metadata": {},
   "outputs": [],
   "source": [
    "import os\n",
    "from random import randint"
   ]
  },
  {
   "cell_type": "code",
   "execution_count": 2,
   "metadata": {},
   "outputs": [],
   "source": [
    "path = \"cards.txt\"\n",
    "cards = []\n",
    "with open(path) as fp:\n",
    "    line = fp.readline()\n",
    "    while line and len(line) > 0:\n",
    "        line = fp.readline().strip(\"\\n\")\n",
    "        cards.append(line)\n"
   ]
  },
  {
   "cell_type": "code",
   "execution_count": null,
   "metadata": {},
   "outputs": [
    {
     "name": "stdout",
     "output_type": "stream",
     "text": [
      "Card: Riding off into the sunset.\n",
      "Play or pass? 1 for play, 2 for pass: 2\n",
      "Pass!\n",
      "\n",
      "Card: Lady Gaga.\n",
      "Play or pass? 1 for play, 2 for pass: 1\n",
      "Play!\n",
      "\n",
      "Card: Used panties.\n",
      "Play or pass? 1 for play, 2 for pass: 1\n",
      "Play!\n",
      "\n",
      "Card: Friction.\n",
      "Play or pass? 1 for play, 2 for pass: 1\n",
      "Play!\n",
      "\n",
      "Card: Raptor attacks.\n",
      "Play or pass? 1 for play, 2 for pass: 2\n",
      "Pass!\n",
      "\n",
      "Card: Wifely duties.\n"
     ]
    }
   ],
   "source": [
    "accepted_inputs = [\"1\",\"2\"]\n",
    "won_cards = []\n",
    "passed_cards = []\n",
    "while len(cards) > 0:\n",
    "    idx = randint(0,len(cards)-1)\n",
    "    card = cards.pop(idx)\n",
    "    \n",
    "    print(\"Card: {}\".format(card))\n",
    "    action = input(\"Play or pass? 1 for play, 2 for pass: \")\n",
    "    \n",
    "    while (action not in accepted_inputs):\n",
    "        action = input(\"Please enter 1 or 2: Play or pass? 1 for play, 2 for pass: \")\n",
    "        \n",
    "    action = int(action)\n",
    "    if action == 1:\n",
    "        won_cards.append(1)\n",
    "        print(\"Play!\")\n",
    "\n",
    "    elif action == 2: \n",
    "        won_cards.append(2)\n",
    "        print(\"Pass!\")\n",
    "\n",
    "    else:\n",
    "        print(\"Error: {} not found\".format(card))\n",
    "    print()"
   ]
  },
  {
   "cell_type": "code",
   "execution_count": null,
   "metadata": {},
   "outputs": [],
   "source": [
    "won_cards"
   ]
  },
  {
   "cell_type": "code",
   "execution_count": null,
   "metadata": {},
   "outputs": [],
   "source": []
  }
 ],
 "metadata": {
  "kernelspec": {
   "display_name": "Python 3",
   "language": "python",
   "name": "python3"
  },
  "language_info": {
   "codemirror_mode": {
    "name": "ipython",
    "version": 3
   },
   "file_extension": ".py",
   "mimetype": "text/x-python",
   "name": "python",
   "nbconvert_exporter": "python",
   "pygments_lexer": "ipython3",
   "version": "3.7.3"
  }
 },
 "nbformat": 4,
 "nbformat_minor": 4
}
